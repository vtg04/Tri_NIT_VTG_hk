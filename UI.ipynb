{
 "cells": [
  {
   "cell_type": "code",
   "execution_count": null,
   "id": "253c3fce",
   "metadata": {},
   "outputs": [],
   "source": [
    "from tkinter import *\n",
    "windows =Tk()\n",
    "windows.title(\"Soil predictor\")\n",
    "windows.geometry('500x300')\n",
    "\n",
    "\n",
    "label1=Label(windows,text='Select City:',fg='blue',font=('Arial',14))\n",
    "label1.grid(row=0,column=0,padx=5,pady=10)\n",
    "\n",
    "# label for rain\n",
    "label1=Label(windows,text='Select season :',fg='blue',font=('Arial',14))\n",
    "label1.grid(row=1,column=0,padx=5,pady=10)\n",
    "\n",
    "city=StringVar()\n",
    "season=StringVar()\n",
    "\n",
    "drop=OptionMenu(windows,city,\"Mumbai\",\"Delhi\",\"Bangalore\",\"Chennai\",\"Lucknow\",\"Rajasthan\",\"Bhubhneshwar\",\"Rourkela\")\n",
    "drop.grid(row=0,column=1)\n",
    "# Entry for season\n",
    "drop=OptionMenu(windows,season,\"Summer\",\"Winter\",\"Rainy\",\"Spring\",\"Pre Winter\")\n",
    "drop.grid(row=1,column=1)\n",
    "\n",
    "def result():\n",
    "\n",
    "    area=city.get()+season.get()\n",
    "    emptylabel.config(text='Crop :'+str(area))\n",
    " \n",
    "\n",
    "\n",
    "\n",
    "button1=Button(windows,text='find',command=result,fg='green',font=('Arial',14))\n",
    "button1.grid(row=6,column=1,sticky=W)\n",
    "#  area to print \n",
    "emptylabel=Label(windows,fg='green',font=('Times',16,'bold italic'))\n",
    "emptylabel.grid(row=8,column=1,sticky=W,pady=15)\n",
    "\n",
    "windows.mainloop()"
   ]
  }
 ],
 "metadata": {
  "kernelspec": {
   "display_name": "Python 3 (ipykernel)",
   "language": "python",
   "name": "python3"
  },
  "language_info": {
   "codemirror_mode": {
    "name": "ipython",
    "version": 3
   },
   "file_extension": ".py",
   "mimetype": "text/x-python",
   "name": "python",
   "nbconvert_exporter": "python",
   "pygments_lexer": "ipython3",
   "version": "3.10.2"
  }
 },
 "nbformat": 4,
 "nbformat_minor": 5
}
